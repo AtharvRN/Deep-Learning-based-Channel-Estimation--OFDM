{
  "nbformat": 4,
  "nbformat_minor": 0,
  "metadata": {
    "colab": {
      "provenance": []
    },
    "kernelspec": {
      "name": "python3",
      "display_name": "Python 3"
    },
    "language_info": {
      "name": "python"
    },
    "accelerator": "GPU",
    "gpuClass": "premium"
  },
  "cells": [
    {
      "cell_type": "code",
      "source": [
        "import numpy as np\n",
        "import matplotlib.pyplot as plt\n",
        "import tensorflow as tf\n",
        "from tensorflow.keras.models import Sequential\n",
        "from sklearn.model_selection import train_test_split\n",
        "from tensorflow.keras.layers import Input, Conv1D, BatchNormalization, Add, Activation, Flatten, Dense\n",
        "from tensorflow.keras.callbacks import LearningRateScheduler\n",
        "from tensorflow.keras.optimizers import Adam\n",
        "from tensorflow.keras.models import Model\n",
        "from tensorflow.keras.callbacks import ModelCheckpoint\n",
        "from tensorflow.keras import layers, models, Input\n",
        "from tensorflow.keras.layers import concatenate\n",
        "from tensorflow.keras.layers import (Dense, Dropout, Input, Conv1D, Add,\n",
        "                                     Flatten, LayerNormalization, Bidirectional,\n",
        "                                     LSTM, BatchNormalization)"
      ],
      "metadata": {
        "id": "g6sZxHSwrxb8"
      },
      "execution_count": 1,
      "outputs": []
    },
    {
      "cell_type": "code",
      "source": [
        "\n",
        "device_name = tf.test.gpu_device_name()\n",
        "if device_name != '/device:GPU:0':\n",
        "    raise SystemError('GPU device not found')\n",
        "else:\n",
        "    print(f'Found GPU at: {device_name}')\n"
      ],
      "metadata": {
        "colab": {
          "base_uri": "https://localhost:8080/"
        },
        "id": "lT0zOhSvsJSR",
        "outputId": "d841ac4a-9bca-482f-af67-9874f67331dc"
      },
      "execution_count": 2,
      "outputs": [
        {
          "output_type": "stream",
          "name": "stdout",
          "text": [
            "Found GPU at: /device:GPU:0\n"
          ]
        }
      ]
    },
    {
      "cell_type": "code",
      "source": [
        "# Parameters\n",
        "n_bits = 256\n",
        "n_symbols = n_bits // 4\n",
        "n_fft = 64\n",
        "n_pilots = 9\n",
        "pilot_indices = [0, 8, 16, 24, 32, 40, 48, 56, 63]\n",
        "pilot_value = 3 + 3j\n",
        "cp_length = 16\n",
        "n_taps = 3\n",
        "tap_powers = [0.3, 0.8, 0.2]\n",
        "snr = 20"
      ],
      "metadata": {
        "id": "NgvL2a_-9bwj"
      },
      "execution_count": 3,
      "outputs": []
    },
    {
      "cell_type": "code",
      "source": [
        "def preprocess_complex_data(data):\n",
        "    data_real = np.real(data)\n",
        "    data_imag = np.imag(data)\n",
        "    data_combined = np.stack((data_real, data_imag), axis=-1)\n",
        "    return data_combined\n",
        "\n",
        "def postprocess_complex_data(data):\n",
        "    return data[:, 0] + 1j * data[:, 1]"
      ],
      "metadata": {
        "id": "o6LErYoWb-V8"
      },
      "execution_count": 4,
      "outputs": []
    },
    {
      "cell_type": "code",
      "source": [
        "def generate_data(n_samples=1000,snr_db = 20, pilot_vals = 3+3j):\n",
        "    # snr_db = 20\n",
        "    # pilot_vals = 3 + 3j\n",
        "    pilot_indices = np.array([0, 8, 16, 24, 32, 40, 48, 56, 63])\n",
        "\n",
        "    Y = []\n",
        "    H = []\n",
        "    Y_pilot = []\n",
        "    H_pilot = []\n",
        "    for i in range(n_samples):\n",
        "        bits = np.random.randint(0, 16, 55)\n",
        "        qam = np.sqrt(1 / 10) * (2 * (bits % 4) - 3 + 1j * (2 * (bits // 4) - 3))\n",
        "        data_symbols = np.zeros(64, dtype=complex)\n",
        "        data_symbols[np.delete(np.arange(64), pilot_indices)] = qam\n",
        "        data_symbols[pilot_indices] = pilot_vals\n",
        "\n",
        "        h = np.random.randn(3) + 1j * np.random.randn(3)\n",
        "        h = h * np.array([0.3, 0.8, 0.2])\n",
        "        H_FFT = np.fft.fft(h, 64)\n",
        "        \n",
        "\n",
        "        x = np.fft.ifft(data_symbols)\n",
        "        x_cp = np.concatenate((x[-16:], x))\n",
        "\n",
        "        snr = 10**(snr_db / 10)\n",
        "        noise = (1 / np.sqrt(2 * snr)) * (np.random.randn(80) + 1j * np.random.randn(80))\n",
        "\n",
        "        y = np.convolve(h, x_cp)[:80] + noise\n",
        "        Y_FFT = np.fft.fft(y[16:])\n",
        "        \n",
        "        Yp = Y_FFT[pilot_indices]\n",
        "        Hp = H_FFT[pilot_indices]\n",
        "\n",
        "        Y.append(Y_FFT)\n",
        "        Y_pilot.append(Yp)\n",
        "        H_pilot.append(Hp)\n",
        "        H.append(H_FFT)\n",
        "\n",
        "        # X.append(y)\n",
        "    # Y = np.array(Y)\n",
        "    # H = np.array(H)\n",
        "    # Y_pilot = np.array(Y_pilot)\n",
        "    return Y,Y_pilot, H,H_pilot\n"
      ],
      "metadata": {
        "id": "rhmFLlo_rz8M"
      },
      "execution_count": 5,
      "outputs": []
    },
    {
      "cell_type": "code",
      "source": [
        "def create_model(input_shape=(64, 2)):\n",
        "    inputs = Input(shape=input_shape)\n",
        "\n",
        "    # First convolutional block\n",
        "    x = Conv1D(filters=64, kernel_size=3, padding='same')(inputs)\n",
        "    x = BatchNormalization()(x)\n",
        "    x = Activation('relu')(x)\n",
        "\n",
        "    # Second convolutional block with skip connection\n",
        "    x_shortcut = x\n",
        "    x = Conv1D(filters=64, kernel_size=3, padding='same')(x)\n",
        "    x = BatchNormalization()(x)\n",
        "    x = Activation('relu')(x)\n",
        "    x = Conv1D(filters=64, kernel_size=3, padding='same')(x)\n",
        "    x = BatchNormalization()(x)\n",
        "    x = Add()([x, x_shortcut])\n",
        "    x = Activation('relu')(x)\n",
        "\n",
        "    # Fully connected layers\n",
        "    x = Flatten()(x)\n",
        "    x = Dense(128, activation='relu')(x)\n",
        "    x = Dense(64 * 2, activation=None)(x)\n",
        "\n",
        "    # Reshape the output to (64, 2)\n",
        "    outputs = tf.reshape(x, (-1, 64, 2))\n",
        "\n",
        "    model = Model(inputs=inputs, outputs=outputs)\n",
        "\n",
        "    # Learning rate schedule\n",
        "      \n",
        "    model.compile(optimizer=Adam(learning_rate=1e-4), loss='mse', metrics=['mse'])\n",
        "    return mode\n",
        "\n",
        "\n",
        "def train_model(model, X_train, y_train, epochs=200):\n",
        "    model.fit(X_train, y_train, epochs=epochs, verbose=2)\n",
        "\n",
        "def plot_results(H, H_pred):\n",
        "    plt.figure(figsize=(12, 6))\n",
        "    plt.plot(np.abs(H), label='Actual H')\n",
        "    plt.plot(np.abs(H_pred), label='Predicted H', linestyle='--')\n",
        "    plt.xlabel('Subcarrier index')\n",
        "    plt.ylabel('Magnitude')\n",
        "    plt.legend()\n",
        "    plt.grid()\n",
        "    plt.show()"
      ],
      "metadata": {
        "id": "7ZLz7f47r1Kq"
      },
      "execution_count": 6,
      "outputs": []
    },
    {
      "cell_type": "code",
      "source": [
        "## Change name of model file accordingly\n",
        "checkpoint_filepath = \"model_weights_20_new.h5\"\n",
        "checkpoint_callback = ModelCheckpoint(\n",
        "    filepath=checkpoint_filepath,\n",
        "    monitor='val_loss',\n",
        "    verbose=1,\n",
        "    save_best_only=True,\n",
        "    save_weights_only=True,\n",
        "    mode='min',\n",
        "    save_freq='epoch'\n",
        ")"
      ],
      "metadata": {
        "id": "LuVdNkXuXgN_"
      },
      "execution_count": 8,
      "outputs": []
    },
    {
      "cell_type": "code",
      "source": [
        "## change SNR accordingly\n",
        "snr = 20\n",
        "Ytt ,b, Htt,d = generate_data(1000000,snr)\n",
        "Y_train,Y_test, H_train, H_test = train_test_split(Ytt,Htt,test_size=0.1, random_state=42)\n",
        "Y_train = preprocess_complex_data(Y_train)\n",
        "H_train = preprocess_complex_data(H_train)"
      ],
      "metadata": {
        "id": "hwf44dnLTZ1F"
      },
      "execution_count": null,
      "outputs": []
    },
    {
      "cell_type": "code",
      "source": [
        "model = create_model()\n",
        "history = model.fit(Y_train, H_train, epochs=100, batch_size=64, validation_split=0.1,callbacks=[checkpoint_callback])"
      ],
      "metadata": {
        "colab": {
          "base_uri": "https://localhost:8080/",
          "height": 1000
        },
        "id": "9PvxKmaZ-qEd",
        "outputId": "481bbcc3-9c3e-4380-cba5-bf82c72673c7"
      },
      "execution_count": null,
      "outputs": [
        {
          "output_type": "stream",
          "name": "stdout",
          "text": [
            "Epoch 1/100\n",
            "12651/12657 [============================>.] - ETA: 0s - loss: 0.0274 - mse: 0.0274\n",
            "Epoch 1: val_loss did not improve from 0.00638\n",
            "12657/12657 [==============================] - 41s 3ms/step - loss: 0.0274 - mse: 0.0274 - val_loss: 0.0067 - val_mse: 0.0067\n",
            "Epoch 2/100\n",
            "12656/12657 [============================>.] - ETA: 0s - loss: 0.0065 - mse: 0.0065\n",
            "Epoch 2: val_loss did not improve from 0.00638\n",
            "12657/12657 [==============================] - 38s 3ms/step - loss: 0.0065 - mse: 0.0065 - val_loss: 0.0064 - val_mse: 0.0064\n",
            "Epoch 3/100\n",
            "12655/12657 [============================>.] - ETA: 0s - loss: 0.0063 - mse: 0.0063\n",
            "Epoch 3: val_loss improved from 0.00638 to 0.00624, saving model to model_weights_20_new.h5\n",
            "12657/12657 [==============================] - 38s 3ms/step - loss: 0.0063 - mse: 0.0063 - val_loss: 0.0062 - val_mse: 0.0062\n",
            "Epoch 4/100\n",
            "12651/12657 [============================>.] - ETA: 0s - loss: 0.0062 - mse: 0.0062\n",
            "Epoch 4: val_loss improved from 0.00624 to 0.00623, saving model to model_weights_20_new.h5\n",
            "12657/12657 [==============================] - 38s 3ms/step - loss: 0.0062 - mse: 0.0062 - val_loss: 0.0062 - val_mse: 0.0062\n",
            "Epoch 5/100\n",
            "12654/12657 [============================>.] - ETA: 0s - loss: 0.0062 - mse: 0.0062\n",
            "Epoch 5: val_loss improved from 0.00623 to 0.00613, saving model to model_weights_20_new.h5\n",
            "12657/12657 [==============================] - 38s 3ms/step - loss: 0.0062 - mse: 0.0062 - val_loss: 0.0061 - val_mse: 0.0061\n",
            "Epoch 6/100\n",
            "12657/12657 [==============================] - ETA: 0s - loss: 0.0062 - mse: 0.0062\n",
            "Epoch 6: val_loss did not improve from 0.00613\n",
            "12657/12657 [==============================] - 38s 3ms/step - loss: 0.0062 - mse: 0.0062 - val_loss: 0.0061 - val_mse: 0.0061\n",
            "Epoch 7/100\n",
            "12643/12657 [============================>.] - ETA: 0s - loss: 0.0061 - mse: 0.0061\n",
            "Epoch 7: val_loss did not improve from 0.00613\n",
            "12657/12657 [==============================] - 38s 3ms/step - loss: 0.0061 - mse: 0.0061 - val_loss: 0.0063 - val_mse: 0.0063\n",
            "Epoch 8/100\n",
            "12650/12657 [============================>.] - ETA: 0s - loss: 0.0061 - mse: 0.0061\n",
            "Epoch 8: val_loss did not improve from 0.00613\n",
            "12657/12657 [==============================] - 38s 3ms/step - loss: 0.0061 - mse: 0.0061 - val_loss: 0.0062 - val_mse: 0.0062\n",
            "Epoch 9/100\n",
            "12650/12657 [============================>.] - ETA: 0s - loss: 0.0061 - mse: 0.0061\n",
            "Epoch 9: val_loss did not improve from 0.00613\n",
            "12657/12657 [==============================] - 38s 3ms/step - loss: 0.0061 - mse: 0.0061 - val_loss: 0.0061 - val_mse: 0.0061\n",
            "Epoch 10/100\n",
            "12646/12657 [============================>.] - ETA: 0s - loss: 0.0061 - mse: 0.0061\n",
            "Epoch 10: val_loss did not improve from 0.00613\n",
            "12657/12657 [==============================] - 38s 3ms/step - loss: 0.0061 - mse: 0.0061 - val_loss: 0.0061 - val_mse: 0.0061\n",
            "Epoch 11/100\n",
            "12645/12657 [============================>.] - ETA: 0s - loss: 0.0061 - mse: 0.0061\n",
            "Epoch 11: val_loss did not improve from 0.00613\n",
            "12657/12657 [==============================] - 38s 3ms/step - loss: 0.0061 - mse: 0.0061 - val_loss: 0.0062 - val_mse: 0.0062\n",
            "Epoch 12/100\n",
            "12650/12657 [============================>.] - ETA: 0s - loss: 0.0061 - mse: 0.0061\n",
            "Epoch 12: val_loss improved from 0.00613 to 0.00606, saving model to model_weights_20_new.h5\n",
            "12657/12657 [==============================] - 38s 3ms/step - loss: 0.0061 - mse: 0.0061 - val_loss: 0.0061 - val_mse: 0.0061\n",
            "Epoch 13/100\n",
            "12647/12657 [============================>.] - ETA: 0s - loss: 0.0061 - mse: 0.0061\n",
            "Epoch 13: val_loss did not improve from 0.00606\n",
            "12657/12657 [==============================] - 38s 3ms/step - loss: 0.0061 - mse: 0.0061 - val_loss: 0.0062 - val_mse: 0.0062\n",
            "Epoch 14/100\n",
            "12647/12657 [============================>.] - ETA: 0s - loss: 0.0061 - mse: 0.0061\n",
            "Epoch 14: val_loss did not improve from 0.00606\n",
            "12657/12657 [==============================] - 38s 3ms/step - loss: 0.0061 - mse: 0.0061 - val_loss: 0.0063 - val_mse: 0.0063\n",
            "Epoch 15/100\n",
            "12657/12657 [==============================] - ETA: 0s - loss: 0.0061 - mse: 0.0061\n",
            "Epoch 15: val_loss improved from 0.00606 to 0.00606, saving model to model_weights_20_new.h5\n",
            "12657/12657 [==============================] - 38s 3ms/step - loss: 0.0061 - mse: 0.0061 - val_loss: 0.0061 - val_mse: 0.0061\n",
            "Epoch 16/100\n",
            "12654/12657 [============================>.] - ETA: 0s - loss: 0.0060 - mse: 0.0060\n",
            "Epoch 16: val_loss did not improve from 0.00606\n",
            "12657/12657 [==============================] - 38s 3ms/step - loss: 0.0060 - mse: 0.0060 - val_loss: 0.0061 - val_mse: 0.0061\n",
            "Epoch 17/100\n",
            "12648/12657 [============================>.] - ETA: 0s - loss: 0.0060 - mse: 0.0060\n",
            "Epoch 17: val_loss improved from 0.00606 to 0.00605, saving model to model_weights_20_new.h5\n",
            "12657/12657 [==============================] - 38s 3ms/step - loss: 0.0060 - mse: 0.0060 - val_loss: 0.0061 - val_mse: 0.0061\n",
            "Epoch 18/100\n",
            "12641/12657 [============================>.] - ETA: 0s - loss: 0.0060 - mse: 0.0060\n",
            "Epoch 18: val_loss did not improve from 0.00605\n",
            "12657/12657 [==============================] - 39s 3ms/step - loss: 0.0060 - mse: 0.0060 - val_loss: 0.0061 - val_mse: 0.0061\n",
            "Epoch 19/100\n",
            "12652/12657 [============================>.] - ETA: 0s - loss: 0.0060 - mse: 0.0060\n",
            "Epoch 19: val_loss did not improve from 0.00605\n",
            "12657/12657 [==============================] - 38s 3ms/step - loss: 0.0060 - mse: 0.0060 - val_loss: 0.0061 - val_mse: 0.0061\n",
            "Epoch 20/100\n",
            "12642/12657 [============================>.] - ETA: 0s - loss: 0.0060 - mse: 0.0060\n",
            "Epoch 20: val_loss did not improve from 0.00605\n",
            "12657/12657 [==============================] - 38s 3ms/step - loss: 0.0060 - mse: 0.0060 - val_loss: 0.0061 - val_mse: 0.0061\n",
            "Epoch 21/100\n",
            "12654/12657 [============================>.] - ETA: 0s - loss: 0.0060 - mse: 0.0060\n",
            "Epoch 21: val_loss improved from 0.00605 to 0.00600, saving model to model_weights_20_new.h5\n",
            "12657/12657 [==============================] - 38s 3ms/step - loss: 0.0060 - mse: 0.0060 - val_loss: 0.0060 - val_mse: 0.0060\n",
            "Epoch 22/100\n",
            "12652/12657 [============================>.] - ETA: 0s - loss: 0.0060 - mse: 0.0060\n",
            "Epoch 22: val_loss improved from 0.00600 to 0.00598, saving model to model_weights_20_new.h5\n",
            "12657/12657 [==============================] - 39s 3ms/step - loss: 0.0060 - mse: 0.0060 - val_loss: 0.0060 - val_mse: 0.0060\n",
            "Epoch 23/100\n",
            "12649/12657 [============================>.] - ETA: 0s - loss: 0.0060 - mse: 0.0060\n",
            "Epoch 23: val_loss did not improve from 0.00598\n",
            "12657/12657 [==============================] - 40s 3ms/step - loss: 0.0060 - mse: 0.0060 - val_loss: 0.0060 - val_mse: 0.0060\n",
            "Epoch 24/100\n",
            "12647/12657 [============================>.] - ETA: 0s - loss: 0.0060 - mse: 0.0060\n",
            "Epoch 24: val_loss did not improve from 0.00598\n",
            "12657/12657 [==============================] - 41s 3ms/step - loss: 0.0060 - mse: 0.0060 - val_loss: 0.0061 - val_mse: 0.0061\n",
            "Epoch 25/100\n",
            "12645/12657 [============================>.] - ETA: 0s - loss: 0.0060 - mse: 0.0060\n",
            "Epoch 25: val_loss did not improve from 0.00598\n",
            "12657/12657 [==============================] - 38s 3ms/step - loss: 0.0060 - mse: 0.0060 - val_loss: 0.0060 - val_mse: 0.0060\n",
            "Epoch 26/100\n",
            "12641/12657 [============================>.] - ETA: 0s - loss: 0.0060 - mse: 0.0060\n",
            "Epoch 26: val_loss did not improve from 0.00598\n",
            "12657/12657 [==============================] - 39s 3ms/step - loss: 0.0060 - mse: 0.0060 - val_loss: 0.0062 - val_mse: 0.0062\n",
            "Epoch 27/100\n",
            "12657/12657 [==============================] - ETA: 0s - loss: 0.0059 - mse: 0.0059\n",
            "Epoch 27: val_loss did not improve from 0.00598\n",
            "12657/12657 [==============================] - 38s 3ms/step - loss: 0.0059 - mse: 0.0059 - val_loss: 0.0060 - val_mse: 0.0060\n",
            "Epoch 28/100\n",
            "12654/12657 [============================>.] - ETA: 0s - loss: 0.0059 - mse: 0.0059\n",
            "Epoch 28: val_loss did not improve from 0.00598\n",
            "12657/12657 [==============================] - 38s 3ms/step - loss: 0.0059 - mse: 0.0059 - val_loss: 0.0060 - val_mse: 0.0060\n",
            "Epoch 29/100\n",
            "12640/12657 [============================>.] - ETA: 0s - loss: 0.0059 - mse: 0.0059\n",
            "Epoch 29: val_loss did not improve from 0.00598\n",
            "12657/12657 [==============================] - 38s 3ms/step - loss: 0.0059 - mse: 0.0059 - val_loss: 0.0060 - val_mse: 0.0060\n",
            "Epoch 30/100\n",
            "12649/12657 [============================>.] - ETA: 0s - loss: 0.0059 - mse: 0.0059\n",
            "Epoch 30: val_loss did not improve from 0.00598\n",
            "12657/12657 [==============================] - 38s 3ms/step - loss: 0.0059 - mse: 0.0059 - val_loss: 0.0061 - val_mse: 0.0061\n",
            "Epoch 31/100\n",
            "12655/12657 [============================>.] - ETA: 0s - loss: 0.0059 - mse: 0.0059\n",
            "Epoch 31: val_loss did not improve from 0.00598\n",
            "12657/12657 [==============================] - 38s 3ms/step - loss: 0.0059 - mse: 0.0059 - val_loss: 0.0061 - val_mse: 0.0061\n",
            "Epoch 32/100\n",
            "12640/12657 [============================>.] - ETA: 0s - loss: 0.0059 - mse: 0.0059\n",
            "Epoch 32: val_loss did not improve from 0.00598\n",
            "12657/12657 [==============================] - 38s 3ms/step - loss: 0.0059 - mse: 0.0059 - val_loss: 0.0060 - val_mse: 0.0060\n",
            "Epoch 33/100\n",
            "12643/12657 [============================>.] - ETA: 0s - loss: 0.0059 - mse: 0.0059\n",
            "Epoch 33: val_loss did not improve from 0.00598\n",
            "12657/12657 [==============================] - 38s 3ms/step - loss: 0.0059 - mse: 0.0059 - val_loss: 0.0060 - val_mse: 0.0060\n",
            "Epoch 34/100\n",
            "12650/12657 [============================>.] - ETA: 0s - loss: 0.0059 - mse: 0.0059\n",
            "Epoch 34: val_loss did not improve from 0.00598\n",
            "12657/12657 [==============================] - 39s 3ms/step - loss: 0.0059 - mse: 0.0059 - val_loss: 0.0060 - val_mse: 0.0060\n",
            "Epoch 35/100\n",
            "12657/12657 [==============================] - ETA: 0s - loss: 0.0059 - mse: 0.0059\n",
            "Epoch 35: val_loss did not improve from 0.00598\n",
            "12657/12657 [==============================] - 38s 3ms/step - loss: 0.0059 - mse: 0.0059 - val_loss: 0.0060 - val_mse: 0.0060\n",
            "Epoch 36/100\n",
            "12657/12657 [==============================] - ETA: 0s - loss: 0.0059 - mse: 0.0059\n",
            "Epoch 36: val_loss did not improve from 0.00598\n",
            "12657/12657 [==============================] - 38s 3ms/step - loss: 0.0059 - mse: 0.0059 - val_loss: 0.0060 - val_mse: 0.0060\n",
            "Epoch 37/100\n",
            "12646/12657 [============================>.] - ETA: 0s - loss: 0.0059 - mse: 0.0059\n",
            "Epoch 37: val_loss did not improve from 0.00598\n",
            "12657/12657 [==============================] - 38s 3ms/step - loss: 0.0059 - mse: 0.0059 - val_loss: 0.0060 - val_mse: 0.0060\n",
            "Epoch 38/100\n",
            "12656/12657 [============================>.] - ETA: 0s - loss: 0.0059 - mse: 0.0059\n",
            "Epoch 38: val_loss did not improve from 0.00598\n",
            "12657/12657 [==============================] - 38s 3ms/step - loss: 0.0059 - mse: 0.0059 - val_loss: 0.0060 - val_mse: 0.0060\n",
            "Epoch 39/100\n",
            "12656/12657 [============================>.] - ETA: 0s - loss: 0.0059 - mse: 0.0059\n",
            "Epoch 39: val_loss did not improve from 0.00598\n",
            "12657/12657 [==============================] - 38s 3ms/step - loss: 0.0059 - mse: 0.0059 - val_loss: 0.0060 - val_mse: 0.0060\n",
            "Epoch 40/100\n",
            "12651/12657 [============================>.] - ETA: 0s - loss: 0.0059 - mse: 0.0059\n",
            "Epoch 40: val_loss did not improve from 0.00598\n",
            "12657/12657 [==============================] - 38s 3ms/step - loss: 0.0059 - mse: 0.0059 - val_loss: 0.0060 - val_mse: 0.0060\n",
            "Epoch 41/100\n",
            "12643/12657 [============================>.] - ETA: 0s - loss: 0.0059 - mse: 0.0059\n",
            "Epoch 41: val_loss improved from 0.00598 to 0.00596, saving model to model_weights_20_new.h5\n",
            "12657/12657 [==============================] - 38s 3ms/step - loss: 0.0059 - mse: 0.0059 - val_loss: 0.0060 - val_mse: 0.0060\n",
            "Epoch 42/100\n",
            "12656/12657 [============================>.] - ETA: 0s - loss: 0.0059 - mse: 0.0059\n",
            "Epoch 42: val_loss did not improve from 0.00596\n",
            "12657/12657 [==============================] - 39s 3ms/step - loss: 0.0059 - mse: 0.0059 - val_loss: 0.0060 - val_mse: 0.0060\n",
            "Epoch 43/100\n",
            "12654/12657 [============================>.] - ETA: 0s - loss: 0.0059 - mse: 0.0059\n",
            "Epoch 43: val_loss did not improve from 0.00596\n",
            "12657/12657 [==============================] - 38s 3ms/step - loss: 0.0059 - mse: 0.0059 - val_loss: 0.0060 - val_mse: 0.0060\n",
            "Epoch 44/100\n",
            "12647/12657 [============================>.] - ETA: 0s - loss: 0.0059 - mse: 0.0059\n",
            "Epoch 44: val_loss did not improve from 0.00596\n",
            "12657/12657 [==============================] - 38s 3ms/step - loss: 0.0059 - mse: 0.0059 - val_loss: 0.0060 - val_mse: 0.0060\n",
            "Epoch 45/100\n",
            "12647/12657 [============================>.] - ETA: 0s - loss: 0.0059 - mse: 0.0059\n",
            "Epoch 45: val_loss did not improve from 0.00596\n",
            "12657/12657 [==============================] - 38s 3ms/step - loss: 0.0059 - mse: 0.0059 - val_loss: 0.0060 - val_mse: 0.0060\n",
            "Epoch 46/100\n",
            "12645/12657 [============================>.] - ETA: 0s - loss: 0.0059 - mse: 0.0059\n",
            "Epoch 46: val_loss did not improve from 0.00596\n",
            "12657/12657 [==============================] - 38s 3ms/step - loss: 0.0059 - mse: 0.0059 - val_loss: 0.0060 - val_mse: 0.0060\n",
            "Epoch 47/100\n",
            "12650/12657 [============================>.] - ETA: 0s - loss: 0.0059 - mse: 0.0059\n",
            "Epoch 47: val_loss did not improve from 0.00596\n",
            "12657/12657 [==============================] - 38s 3ms/step - loss: 0.0059 - mse: 0.0059 - val_loss: 0.0060 - val_mse: 0.0060\n",
            "Epoch 48/100\n",
            "12654/12657 [============================>.] - ETA: 0s - loss: 0.0059 - mse: 0.0059\n",
            "Epoch 48: val_loss did not improve from 0.00596\n",
            "12657/12657 [==============================] - 38s 3ms/step - loss: 0.0059 - mse: 0.0059 - val_loss: 0.0060 - val_mse: 0.0060\n",
            "Epoch 49/100\n",
            "12641/12657 [============================>.] - ETA: 0s - loss: 0.0059 - mse: 0.0059\n",
            "Epoch 49: val_loss did not improve from 0.00596\n",
            "12657/12657 [==============================] - 38s 3ms/step - loss: 0.0059 - mse: 0.0059 - val_loss: 0.0061 - val_mse: 0.0061\n",
            "Epoch 50/100\n",
            "12640/12657 [============================>.] - ETA: 0s - loss: 0.0059 - mse: 0.0059\n",
            "Epoch 50: val_loss improved from 0.00596 to 0.00593, saving model to model_weights_20_new.h5\n",
            "12657/12657 [==============================] - 39s 3ms/step - loss: 0.0059 - mse: 0.0059 - val_loss: 0.0059 - val_mse: 0.0059\n",
            "Epoch 51/100\n",
            "12656/12657 [============================>.] - ETA: 0s - loss: 0.0059 - mse: 0.0059\n",
            "Epoch 51: val_loss did not improve from 0.00593\n",
            "12657/12657 [==============================] - 38s 3ms/step - loss: 0.0059 - mse: 0.0059 - val_loss: 0.0060 - val_mse: 0.0060\n",
            "Epoch 52/100\n",
            "12654/12657 [============================>.] - ETA: 0s - loss: 0.0059 - mse: 0.0059\n",
            "Epoch 52: val_loss did not improve from 0.00593\n",
            "12657/12657 [==============================] - 38s 3ms/step - loss: 0.0059 - mse: 0.0059 - val_loss: 0.0061 - val_mse: 0.0061\n",
            "Epoch 53/100\n",
            "12644/12657 [============================>.] - ETA: 0s - loss: 0.0059 - mse: 0.0059\n",
            "Epoch 53: val_loss did not improve from 0.00593\n",
            "12657/12657 [==============================] - 38s 3ms/step - loss: 0.0059 - mse: 0.0059 - val_loss: 0.0060 - val_mse: 0.0060\n",
            "Epoch 54/100\n",
            "11969/12657 [===========================>..] - ETA: 1s - loss: 0.0059 - mse: 0.0059"
          ]
        },
        {
          "output_type": "error",
          "ename": "KeyboardInterrupt",
          "evalue": "ignored",
          "traceback": [
            "\u001b[0;31m---------------------------------------------------------------------------\u001b[0m",
            "\u001b[0;31mKeyboardInterrupt\u001b[0m                         Traceback (most recent call last)",
            "\u001b[0;32m<ipython-input-108-08cdb094ba00>\u001b[0m in \u001b[0;36m<cell line: 2>\u001b[0;34m()\u001b[0m\n\u001b[1;32m      1\u001b[0m \u001b[0mmodel\u001b[0m \u001b[0;34m=\u001b[0m \u001b[0mcreate_model\u001b[0m\u001b[0;34m(\u001b[0m\u001b[0;34m)\u001b[0m\u001b[0;34m\u001b[0m\u001b[0;34m\u001b[0m\u001b[0m\n\u001b[0;32m----> 2\u001b[0;31m \u001b[0mhistory\u001b[0m \u001b[0;34m=\u001b[0m \u001b[0mmodel\u001b[0m\u001b[0;34m.\u001b[0m\u001b[0mfit\u001b[0m\u001b[0;34m(\u001b[0m\u001b[0mY_train\u001b[0m\u001b[0;34m,\u001b[0m \u001b[0mH_train\u001b[0m\u001b[0;34m,\u001b[0m \u001b[0mepochs\u001b[0m\u001b[0;34m=\u001b[0m\u001b[0;36m100\u001b[0m\u001b[0;34m,\u001b[0m \u001b[0mbatch_size\u001b[0m\u001b[0;34m=\u001b[0m\u001b[0;36m64\u001b[0m\u001b[0;34m,\u001b[0m \u001b[0mvalidation_split\u001b[0m\u001b[0;34m=\u001b[0m\u001b[0;36m0.1\u001b[0m\u001b[0;34m,\u001b[0m\u001b[0mcallbacks\u001b[0m\u001b[0;34m=\u001b[0m\u001b[0;34m[\u001b[0m\u001b[0mcheckpoint_callback\u001b[0m\u001b[0;34m]\u001b[0m\u001b[0;34m)\u001b[0m\u001b[0;34m\u001b[0m\u001b[0;34m\u001b[0m\u001b[0m\n\u001b[0m",
            "\u001b[0;32m/usr/local/lib/python3.10/dist-packages/keras/utils/traceback_utils.py\u001b[0m in \u001b[0;36merror_handler\u001b[0;34m(*args, **kwargs)\u001b[0m\n\u001b[1;32m     63\u001b[0m         \u001b[0mfiltered_tb\u001b[0m \u001b[0;34m=\u001b[0m \u001b[0;32mNone\u001b[0m\u001b[0;34m\u001b[0m\u001b[0;34m\u001b[0m\u001b[0m\n\u001b[1;32m     64\u001b[0m         \u001b[0;32mtry\u001b[0m\u001b[0;34m:\u001b[0m\u001b[0;34m\u001b[0m\u001b[0;34m\u001b[0m\u001b[0m\n\u001b[0;32m---> 65\u001b[0;31m             \u001b[0;32mreturn\u001b[0m \u001b[0mfn\u001b[0m\u001b[0;34m(\u001b[0m\u001b[0;34m*\u001b[0m\u001b[0margs\u001b[0m\u001b[0;34m,\u001b[0m \u001b[0;34m**\u001b[0m\u001b[0mkwargs\u001b[0m\u001b[0;34m)\u001b[0m\u001b[0;34m\u001b[0m\u001b[0;34m\u001b[0m\u001b[0m\n\u001b[0m\u001b[1;32m     66\u001b[0m         \u001b[0;32mexcept\u001b[0m \u001b[0mException\u001b[0m \u001b[0;32mas\u001b[0m \u001b[0me\u001b[0m\u001b[0;34m:\u001b[0m\u001b[0;34m\u001b[0m\u001b[0;34m\u001b[0m\u001b[0m\n\u001b[1;32m     67\u001b[0m             \u001b[0mfiltered_tb\u001b[0m \u001b[0;34m=\u001b[0m \u001b[0m_process_traceback_frames\u001b[0m\u001b[0;34m(\u001b[0m\u001b[0me\u001b[0m\u001b[0;34m.\u001b[0m\u001b[0m__traceback__\u001b[0m\u001b[0;34m)\u001b[0m\u001b[0;34m\u001b[0m\u001b[0;34m\u001b[0m\u001b[0m\n",
            "\u001b[0;32m/usr/local/lib/python3.10/dist-packages/keras/engine/training.py\u001b[0m in \u001b[0;36mfit\u001b[0;34m(self, x, y, batch_size, epochs, verbose, callbacks, validation_split, validation_data, shuffle, class_weight, sample_weight, initial_epoch, steps_per_epoch, validation_steps, validation_batch_size, validation_freq, max_queue_size, workers, use_multiprocessing)\u001b[0m\n\u001b[1;32m   1683\u001b[0m                         ):\n\u001b[1;32m   1684\u001b[0m                             \u001b[0mcallbacks\u001b[0m\u001b[0;34m.\u001b[0m\u001b[0mon_train_batch_begin\u001b[0m\u001b[0;34m(\u001b[0m\u001b[0mstep\u001b[0m\u001b[0;34m)\u001b[0m\u001b[0;34m\u001b[0m\u001b[0;34m\u001b[0m\u001b[0m\n\u001b[0;32m-> 1685\u001b[0;31m                             \u001b[0mtmp_logs\u001b[0m \u001b[0;34m=\u001b[0m \u001b[0mself\u001b[0m\u001b[0;34m.\u001b[0m\u001b[0mtrain_function\u001b[0m\u001b[0;34m(\u001b[0m\u001b[0miterator\u001b[0m\u001b[0;34m)\u001b[0m\u001b[0;34m\u001b[0m\u001b[0;34m\u001b[0m\u001b[0m\n\u001b[0m\u001b[1;32m   1686\u001b[0m                             \u001b[0;32mif\u001b[0m \u001b[0mdata_handler\u001b[0m\u001b[0;34m.\u001b[0m\u001b[0mshould_sync\u001b[0m\u001b[0;34m:\u001b[0m\u001b[0;34m\u001b[0m\u001b[0;34m\u001b[0m\u001b[0m\n\u001b[1;32m   1687\u001b[0m                                 \u001b[0mcontext\u001b[0m\u001b[0;34m.\u001b[0m\u001b[0masync_wait\u001b[0m\u001b[0;34m(\u001b[0m\u001b[0;34m)\u001b[0m\u001b[0;34m\u001b[0m\u001b[0;34m\u001b[0m\u001b[0m\n",
            "\u001b[0;32m/usr/local/lib/python3.10/dist-packages/tensorflow/python/util/traceback_utils.py\u001b[0m in \u001b[0;36merror_handler\u001b[0;34m(*args, **kwargs)\u001b[0m\n\u001b[1;32m    148\u001b[0m     \u001b[0mfiltered_tb\u001b[0m \u001b[0;34m=\u001b[0m \u001b[0;32mNone\u001b[0m\u001b[0;34m\u001b[0m\u001b[0;34m\u001b[0m\u001b[0m\n\u001b[1;32m    149\u001b[0m     \u001b[0;32mtry\u001b[0m\u001b[0;34m:\u001b[0m\u001b[0;34m\u001b[0m\u001b[0;34m\u001b[0m\u001b[0m\n\u001b[0;32m--> 150\u001b[0;31m       \u001b[0;32mreturn\u001b[0m \u001b[0mfn\u001b[0m\u001b[0;34m(\u001b[0m\u001b[0;34m*\u001b[0m\u001b[0margs\u001b[0m\u001b[0;34m,\u001b[0m \u001b[0;34m**\u001b[0m\u001b[0mkwargs\u001b[0m\u001b[0;34m)\u001b[0m\u001b[0;34m\u001b[0m\u001b[0;34m\u001b[0m\u001b[0m\n\u001b[0m\u001b[1;32m    151\u001b[0m     \u001b[0;32mexcept\u001b[0m \u001b[0mException\u001b[0m \u001b[0;32mas\u001b[0m \u001b[0me\u001b[0m\u001b[0;34m:\u001b[0m\u001b[0;34m\u001b[0m\u001b[0;34m\u001b[0m\u001b[0m\n\u001b[1;32m    152\u001b[0m       \u001b[0mfiltered_tb\u001b[0m \u001b[0;34m=\u001b[0m \u001b[0m_process_traceback_frames\u001b[0m\u001b[0;34m(\u001b[0m\u001b[0me\u001b[0m\u001b[0;34m.\u001b[0m\u001b[0m__traceback__\u001b[0m\u001b[0;34m)\u001b[0m\u001b[0;34m\u001b[0m\u001b[0;34m\u001b[0m\u001b[0m\n",
            "\u001b[0;32m/usr/local/lib/python3.10/dist-packages/tensorflow/python/eager/polymorphic_function/polymorphic_function.py\u001b[0m in \u001b[0;36m__call__\u001b[0;34m(self, *args, **kwds)\u001b[0m\n\u001b[1;32m    892\u001b[0m \u001b[0;34m\u001b[0m\u001b[0m\n\u001b[1;32m    893\u001b[0m       \u001b[0;32mwith\u001b[0m \u001b[0mOptionalXlaContext\u001b[0m\u001b[0;34m(\u001b[0m\u001b[0mself\u001b[0m\u001b[0;34m.\u001b[0m\u001b[0m_jit_compile\u001b[0m\u001b[0;34m)\u001b[0m\u001b[0;34m:\u001b[0m\u001b[0;34m\u001b[0m\u001b[0;34m\u001b[0m\u001b[0m\n\u001b[0;32m--> 894\u001b[0;31m         \u001b[0mresult\u001b[0m \u001b[0;34m=\u001b[0m \u001b[0mself\u001b[0m\u001b[0;34m.\u001b[0m\u001b[0m_call\u001b[0m\u001b[0;34m(\u001b[0m\u001b[0;34m*\u001b[0m\u001b[0margs\u001b[0m\u001b[0;34m,\u001b[0m \u001b[0;34m**\u001b[0m\u001b[0mkwds\u001b[0m\u001b[0;34m)\u001b[0m\u001b[0;34m\u001b[0m\u001b[0;34m\u001b[0m\u001b[0m\n\u001b[0m\u001b[1;32m    895\u001b[0m \u001b[0;34m\u001b[0m\u001b[0m\n\u001b[1;32m    896\u001b[0m       \u001b[0mnew_tracing_count\u001b[0m \u001b[0;34m=\u001b[0m \u001b[0mself\u001b[0m\u001b[0;34m.\u001b[0m\u001b[0mexperimental_get_tracing_count\u001b[0m\u001b[0;34m(\u001b[0m\u001b[0;34m)\u001b[0m\u001b[0;34m\u001b[0m\u001b[0;34m\u001b[0m\u001b[0m\n",
            "\u001b[0;32m/usr/local/lib/python3.10/dist-packages/tensorflow/python/eager/polymorphic_function/polymorphic_function.py\u001b[0m in \u001b[0;36m_call\u001b[0;34m(self, *args, **kwds)\u001b[0m\n\u001b[1;32m    924\u001b[0m       \u001b[0;31m# In this case we have created variables on the first call, so we run the\u001b[0m\u001b[0;34m\u001b[0m\u001b[0;34m\u001b[0m\u001b[0m\n\u001b[1;32m    925\u001b[0m       \u001b[0;31m# defunned version which is guaranteed to never create variables.\u001b[0m\u001b[0;34m\u001b[0m\u001b[0;34m\u001b[0m\u001b[0m\n\u001b[0;32m--> 926\u001b[0;31m       \u001b[0;32mreturn\u001b[0m \u001b[0mself\u001b[0m\u001b[0;34m.\u001b[0m\u001b[0m_no_variable_creation_fn\u001b[0m\u001b[0;34m(\u001b[0m\u001b[0;34m*\u001b[0m\u001b[0margs\u001b[0m\u001b[0;34m,\u001b[0m \u001b[0;34m**\u001b[0m\u001b[0mkwds\u001b[0m\u001b[0;34m)\u001b[0m  \u001b[0;31m# pylint: disable=not-callable\u001b[0m\u001b[0;34m\u001b[0m\u001b[0;34m\u001b[0m\u001b[0m\n\u001b[0m\u001b[1;32m    927\u001b[0m     \u001b[0;32melif\u001b[0m \u001b[0mself\u001b[0m\u001b[0;34m.\u001b[0m\u001b[0m_variable_creation_fn\u001b[0m \u001b[0;32mis\u001b[0m \u001b[0;32mnot\u001b[0m \u001b[0;32mNone\u001b[0m\u001b[0;34m:\u001b[0m\u001b[0;34m\u001b[0m\u001b[0;34m\u001b[0m\u001b[0m\n\u001b[1;32m    928\u001b[0m       \u001b[0;31m# Release the lock early so that multiple threads can perform the call\u001b[0m\u001b[0;34m\u001b[0m\u001b[0;34m\u001b[0m\u001b[0m\n",
            "\u001b[0;32m/usr/local/lib/python3.10/dist-packages/tensorflow/python/eager/polymorphic_function/tracing_compiler.py\u001b[0m in \u001b[0;36m__call__\u001b[0;34m(self, *args, **kwargs)\u001b[0m\n\u001b[1;32m    140\u001b[0m     \u001b[0;32mwith\u001b[0m \u001b[0mself\u001b[0m\u001b[0;34m.\u001b[0m\u001b[0m_lock\u001b[0m\u001b[0;34m:\u001b[0m\u001b[0;34m\u001b[0m\u001b[0;34m\u001b[0m\u001b[0m\n\u001b[1;32m    141\u001b[0m       (concrete_function,\n\u001b[0;32m--> 142\u001b[0;31m        filtered_flat_args) = self._maybe_define_function(args, kwargs)\n\u001b[0m\u001b[1;32m    143\u001b[0m     return concrete_function._call_flat(\n\u001b[1;32m    144\u001b[0m         filtered_flat_args, captured_inputs=concrete_function.captured_inputs)  # pylint: disable=protected-access\n",
            "\u001b[0;32m/usr/local/lib/python3.10/dist-packages/tensorflow/python/eager/polymorphic_function/tracing_compiler.py\u001b[0m in \u001b[0;36m_maybe_define_function\u001b[0;34m(self, args, kwargs)\u001b[0m\n\u001b[1;32m    340\u001b[0m     \"\"\"\n\u001b[1;32m    341\u001b[0m     args, kwargs, filtered_flat_args = (\n\u001b[0;32m--> 342\u001b[0;31m         self._function_spec.canonicalize_function_inputs(args, kwargs))\n\u001b[0m\u001b[1;32m    343\u001b[0m \u001b[0;34m\u001b[0m\u001b[0m\n\u001b[1;32m    344\u001b[0m     \u001b[0;32mif\u001b[0m \u001b[0mself\u001b[0m\u001b[0;34m.\u001b[0m\u001b[0minput_signature\u001b[0m \u001b[0;32mis\u001b[0m \u001b[0;32mnot\u001b[0m \u001b[0;32mNone\u001b[0m\u001b[0;34m:\u001b[0m\u001b[0;34m\u001b[0m\u001b[0;34m\u001b[0m\u001b[0m\n",
            "\u001b[0;32m/usr/local/lib/python3.10/dist-packages/tensorflow/python/eager/polymorphic_function/function_spec.py\u001b[0m in \u001b[0;36mcanonicalize_function_inputs\u001b[0;34m(self, args, kwargs)\u001b[0m\n\u001b[1;32m    406\u001b[0m       \u001b[0margs\u001b[0m\u001b[0;34m,\u001b[0m \u001b[0mkwargs\u001b[0m \u001b[0;34m=\u001b[0m \u001b[0m_convert_variables_to_tensors\u001b[0m\u001b[0;34m(\u001b[0m\u001b[0margs\u001b[0m\u001b[0;34m,\u001b[0m \u001b[0mkwargs\u001b[0m\u001b[0;34m)\u001b[0m\u001b[0;34m\u001b[0m\u001b[0;34m\u001b[0m\u001b[0m\n\u001b[1;32m    407\u001b[0m     \u001b[0margs\u001b[0m\u001b[0;34m,\u001b[0m \u001b[0mkwargs\u001b[0m \u001b[0;34m=\u001b[0m \u001b[0mself\u001b[0m\u001b[0;34m.\u001b[0m\u001b[0mbind_function_inputs\u001b[0m\u001b[0;34m(\u001b[0m\u001b[0margs\u001b[0m\u001b[0;34m,\u001b[0m \u001b[0mkwargs\u001b[0m\u001b[0;34m)\u001b[0m\u001b[0;34m\u001b[0m\u001b[0;34m\u001b[0m\u001b[0m\n\u001b[0;32m--> 408\u001b[0;31m     \u001b[0margs\u001b[0m\u001b[0;34m,\u001b[0m \u001b[0mkwargs\u001b[0m \u001b[0;34m=\u001b[0m \u001b[0mcast_inputs\u001b[0m\u001b[0;34m(\u001b[0m\u001b[0margs\u001b[0m\u001b[0;34m,\u001b[0m \u001b[0mkwargs\u001b[0m\u001b[0;34m,\u001b[0m \u001b[0mself\u001b[0m\u001b[0;34m.\u001b[0m\u001b[0minput_signature\u001b[0m\u001b[0;34m)\u001b[0m\u001b[0;34m\u001b[0m\u001b[0;34m\u001b[0m\u001b[0m\n\u001b[0m\u001b[1;32m    409\u001b[0m     \u001b[0mfiltered_flat_args\u001b[0m \u001b[0;34m=\u001b[0m \u001b[0mfilter_function_inputs\u001b[0m\u001b[0;34m(\u001b[0m\u001b[0margs\u001b[0m\u001b[0;34m,\u001b[0m \u001b[0mkwargs\u001b[0m\u001b[0;34m)\u001b[0m\u001b[0;34m\u001b[0m\u001b[0;34m\u001b[0m\u001b[0m\n\u001b[1;32m    410\u001b[0m \u001b[0;34m\u001b[0m\u001b[0m\n",
            "\u001b[0;32m/usr/local/lib/python3.10/dist-packages/tensorflow/python/eager/polymorphic_function/function_spec.py\u001b[0m in \u001b[0;36mcast_inputs\u001b[0;34m(args, kwargs, input_signature)\u001b[0m\n\u001b[1;32m    478\u001b[0m   \u001b[0;34m\"\"\"Casts args, kwargs to TF values based on an optional input_signature.\"\"\"\u001b[0m\u001b[0;34m\u001b[0m\u001b[0;34m\u001b[0m\u001b[0m\n\u001b[1;32m    479\u001b[0m   \u001b[0;32mif\u001b[0m \u001b[0minput_signature\u001b[0m \u001b[0;32mis\u001b[0m \u001b[0;32mNone\u001b[0m\u001b[0;34m:\u001b[0m\u001b[0;34m\u001b[0m\u001b[0;34m\u001b[0m\u001b[0m\n\u001b[0;32m--> 480\u001b[0;31m     \u001b[0margs\u001b[0m \u001b[0;34m=\u001b[0m \u001b[0mcast_numpy_inputs\u001b[0m\u001b[0;34m(\u001b[0m\u001b[0margs\u001b[0m\u001b[0;34m)\u001b[0m\u001b[0;34m\u001b[0m\u001b[0;34m\u001b[0m\u001b[0m\n\u001b[0m\u001b[1;32m    481\u001b[0m   \u001b[0;32melse\u001b[0m\u001b[0;34m:\u001b[0m\u001b[0;34m\u001b[0m\u001b[0;34m\u001b[0m\u001b[0m\n\u001b[1;32m    482\u001b[0m     \u001b[0margs\u001b[0m \u001b[0;34m=\u001b[0m \u001b[0mcast_inputs_to_signature\u001b[0m\u001b[0;34m(\u001b[0m\u001b[0margs\u001b[0m\u001b[0;34m,\u001b[0m \u001b[0minput_signature\u001b[0m\u001b[0;34m)\u001b[0m\u001b[0;34m\u001b[0m\u001b[0;34m\u001b[0m\u001b[0m\n",
            "\u001b[0;32m/usr/local/lib/python3.10/dist-packages/tensorflow/python/eager/polymorphic_function/function_spec.py\u001b[0m in \u001b[0;36mcast_numpy_inputs\u001b[0;34m(inputs)\u001b[0m\n\u001b[1;32m    488\u001b[0m \u001b[0;32mdef\u001b[0m \u001b[0mcast_numpy_inputs\u001b[0m\u001b[0;34m(\u001b[0m\u001b[0minputs\u001b[0m\u001b[0;34m)\u001b[0m\u001b[0;34m:\u001b[0m\u001b[0;34m\u001b[0m\u001b[0;34m\u001b[0m\u001b[0m\n\u001b[1;32m    489\u001b[0m   \u001b[0;34m\"\"\"Converts numpy array inputs to tensors.\"\"\"\u001b[0m\u001b[0;34m\u001b[0m\u001b[0;34m\u001b[0m\u001b[0m\n\u001b[0;32m--> 490\u001b[0;31m   \u001b[0mflat_inputs\u001b[0m \u001b[0;34m=\u001b[0m \u001b[0mcomposite_tensor_utils\u001b[0m\u001b[0;34m.\u001b[0m\u001b[0mflatten_with_variables\u001b[0m\u001b[0;34m(\u001b[0m\u001b[0minputs\u001b[0m\u001b[0;34m)\u001b[0m\u001b[0;34m\u001b[0m\u001b[0;34m\u001b[0m\u001b[0m\n\u001b[0m\u001b[1;32m    491\u001b[0m \u001b[0;34m\u001b[0m\u001b[0m\n\u001b[1;32m    492\u001b[0m   \u001b[0;31m# Check for NumPy arrays in arguments and convert them to Tensors.\u001b[0m\u001b[0;34m\u001b[0m\u001b[0;34m\u001b[0m\u001b[0m\n",
            "\u001b[0;32m/usr/local/lib/python3.10/dist-packages/tensorflow/python/eager/polymorphic_function/composite_tensor_utils.py\u001b[0m in \u001b[0;36mflatten_with_variables\u001b[0;34m(inputs)\u001b[0m\n\u001b[1;32m     33\u001b[0m     if (isinstance(value, composite_tensor.CompositeTensor) and\n\u001b[1;32m     34\u001b[0m         not _pywrap_utils.IsResourceVariable(value)):\n\u001b[0;32m---> 35\u001b[0;31m       \u001b[0mcomponents\u001b[0m \u001b[0;34m=\u001b[0m \u001b[0mvalue\u001b[0m\u001b[0;34m.\u001b[0m\u001b[0m_type_spec\u001b[0m\u001b[0;34m.\u001b[0m\u001b[0m_to_components\u001b[0m\u001b[0;34m(\u001b[0m\u001b[0mvalue\u001b[0m\u001b[0;34m)\u001b[0m  \u001b[0;31m# pylint: disable=protected-access\u001b[0m\u001b[0;34m\u001b[0m\u001b[0;34m\u001b[0m\u001b[0m\n\u001b[0m\u001b[1;32m     36\u001b[0m       \u001b[0mflat_inputs\u001b[0m\u001b[0;34m.\u001b[0m\u001b[0mextend\u001b[0m\u001b[0;34m(\u001b[0m\u001b[0mflatten_with_variables\u001b[0m\u001b[0;34m(\u001b[0m\u001b[0mcomponents\u001b[0m\u001b[0;34m)\u001b[0m\u001b[0;34m)\u001b[0m\u001b[0;34m\u001b[0m\u001b[0;34m\u001b[0m\u001b[0m\n\u001b[1;32m     37\u001b[0m     \u001b[0;32melse\u001b[0m\u001b[0;34m:\u001b[0m\u001b[0;34m\u001b[0m\u001b[0;34m\u001b[0m\u001b[0m\n",
            "\u001b[0;31mKeyboardInterrupt\u001b[0m: "
          ]
        }
      ]
    },
    {
      "cell_type": "code",
      "source": [
        "## SAve model\n",
        "model.save(\"model_weights_20_new.h5\")"
      ],
      "metadata": {
        "id": "j0cUBRhjp1ey"
      },
      "execution_count": null,
      "outputs": []
    },
    {
      "cell_type": "code",
      "source": [
        "test_loss, test_mse = model.evaluate(X_test_preprocessed, y_pred_preprocessed, batch_size=64)"
      ],
      "metadata": {
        "colab": {
          "base_uri": "https://localhost:8080/"
        },
        "id": "2X-nHBoJVzgX",
        "outputId": "4d1e778f-a241-402f-faf5-63a2eacf99fa"
      },
      "execution_count": null,
      "outputs": [
        {
          "output_type": "stream",
          "name": "stdout",
          "text": [
            "313/313 [==============================] - 1s 3ms/step - loss: 5.8430e-14 - mse: 5.8430e-14\n"
          ]
        }
      ]
    },
    {
      "cell_type": "code",
      "source": [
        "y , h = generate_data(1,10)\n",
        "y = preprocess_complex_data(y)\n",
        "h = preprocess_complex_data(h)\n"
      ],
      "metadata": {
        "id": "d9m_THRAAxDN"
      },
      "execution_count": null,
      "outputs": []
    },
    {
      "cell_type": "code",
      "source": [
        "h_predict = model.predict(y)"
      ],
      "metadata": {
        "colab": {
          "base_uri": "https://localhost:8080/"
        },
        "id": "CqqEgqSkD9Rz",
        "outputId": "af343450-091b-4d2a-8962-df797104a2ee"
      },
      "execution_count": null,
      "outputs": [
        {
          "output_type": "stream",
          "name": "stdout",
          "text": [
            "1/1 [==============================] - 0s 19ms/step\n"
          ]
        }
      ]
    },
    {
      "cell_type": "code",
      "source": [
        "allCarriers = np.arange(64)\n",
        "h_abs = np.sqrt(h[:,:,0]**2 + h[:,:,1]**2)\n",
        "h_abs = np.ravel(h_abs)\n",
        "\n",
        "h_absp = np.sqrt(h_predict[:,:,0]**2 + h_predict[:,:,1]**2)\n",
        "h_absp = np.ravel(h_absp)"
      ],
      "metadata": {
        "id": "Rm5JPmC_Ez4k"
      },
      "execution_count": null,
      "outputs": []
    },
    {
      "cell_type": "code",
      "source": [
        "plt.suptitle(\"SNR = 10dB  (20 dB model)\")\n",
        "plt.plot(allCarriers,h_abs,label ='True Channel')\n",
        "plt.plot(allCarriers,h_absp,label ='Model Estimate')\n",
        "plt.legend()"
      ],
      "metadata": {
        "colab": {
          "base_uri": "https://localhost:8080/",
          "height": 496
        },
        "id": "aTwvF_TeZPY2",
        "outputId": "1590f0ea-d4f4-49f5-9c97-1069df06242e"
      },
      "execution_count": null,
      "outputs": [
        {
          "output_type": "execute_result",
          "data": {
            "text/plain": [
              "<matplotlib.legend.Legend at 0x7fed74bbde10>"
            ]
          },
          "metadata": {},
          "execution_count": 86
        },
        {
          "output_type": "display_data",
          "data": {
            "text/plain": [
              "<Figure size 640x480 with 1 Axes>"
            ],
            "image/png": "[encoded data removed]"
          },
          "metadata": {}
        }
      ]
    }
  ]
}